{
  "nbformat": 4,
  "nbformat_minor": 0,
  "metadata": {
    "colab": {
      "provenance": [],
      "gpuType": "T4",
      "mount_file_id": "1jcMy_Xp4gshCV9zD0dP-znqe5CcUDmM2",
      "authorship_tag": "ABX9TyOqojw22a0gUYwxg+m/xp4A",
      "include_colab_link": true
    },
    "kernelspec": {
      "name": "python3",
      "display_name": "Python 3"
    },
    "language_info": {
      "name": "python"
    },
    "accelerator": "GPU"
  },
  "cells": [
    {
      "cell_type": "markdown",
      "metadata": {
        "id": "view-in-github",
        "colab_type": "text"
      },
      "source": [
        "<a href=\"https://colab.research.google.com/github/m17moud/Paper/blob/main/test6.ipynb\" target=\"_parent\"><img src=\"https://colab.research.google.com/assets/colab-badge.svg\" alt=\"Open In Colab\"/></a>"
      ]
    },
    {
      "cell_type": "code",
      "execution_count": 1,
      "metadata": {
        "colab": {
          "base_uri": "https://localhost:8080/"
        },
        "id": "JEcjsABHCryy",
        "outputId": "00ad39c7-3f98-4e42-d885-033e1f3c681e"
      },
      "outputs": [
        {
          "output_type": "stream",
          "name": "stdout",
          "text": [
            "Collecting split_folders\n",
            "  Downloading split_folders-0.5.1-py3-none-any.whl (8.4 kB)\n",
            "Installing collected packages: split_folders\n",
            "Successfully installed split_folders-0.5.1\n"
          ]
        }
      ],
      "source": [
        "pip install split_folders"
      ]
    },
    {
      "cell_type": "code",
      "source": [
        "import pathlib\n",
        "import splitfolders\n",
        "import tensorflow as tf\n",
        "from tensorflow.keras.applications import MobileNetV2\n",
        "from tensorflow.keras.preprocessing.image import ImageDataGenerator\n",
        "from tensorflow.keras.layers import Dense, GlobalAveragePooling2D, Dropout\n",
        "from tensorflow.keras.models import Model\n",
        "import os"
      ],
      "metadata": {
        "id": "CeOgd9u2DF0K"
      },
      "execution_count": 3,
      "outputs": []
    },
    {
      "cell_type": "code",
      "source": [
        "from google.colab import drive\n",
        "drive.mount('/content/drive')"
      ],
      "metadata": {
        "colab": {
          "base_uri": "https://localhost:8080/"
        },
        "id": "BrbCT-9UHEPi",
        "outputId": "81c7553f-b495-440d-f845-36ce651d6470"
      },
      "execution_count": 4,
      "outputs": [
        {
          "output_type": "stream",
          "name": "stdout",
          "text": [
            "Drive already mounted at /content/drive; to attempt to forcibly remount, call drive.mount(\"/content/drive\", force_remount=True).\n"
          ]
        }
      ]
    },
    {
      "cell_type": "code",
      "source": [
        "import pathlib\n",
        "Dataset_dir = \"/content/drive/MyDrive/Model3/train\"\n",
        "Dataset_dir =pathlib.Path(Dataset_dir)\n",
        "\n",
        "splitfolders.ratio(Dataset_dir, output=\"Pistachio_dataset\", seed=101, ratio=(.7, .2, .1))"
      ],
      "metadata": {
        "colab": {
          "base_uri": "https://localhost:8080/"
        },
        "id": "eUCGkQz3HbQ5",
        "outputId": "dc946967-28dd-4b56-d6e4-ff7e07553ca8"
      },
      "execution_count": 5,
      "outputs": [
        {
          "output_type": "stream",
          "name": "stderr",
          "text": [
            "Copying files: 617 files [00:13, 44.91 files/s] \n"
          ]
        }
      ]
    },
    {
      "cell_type": "code",
      "source": [
        "training_dir = '/content/drive/MyDrive/Model3/train'\n",
        "validation_dir = '/content/drive/MyDrive/validation'\n",
        "test_dir = '/content/drive/MyDrive/Model3/test'"
      ],
      "metadata": {
        "id": "9wzSEDaqH-4y"
      },
      "execution_count": 7,
      "outputs": []
    },
    {
      "cell_type": "markdown",
      "source": [
        "Data Aogmantation"
      ],
      "metadata": {
        "id": "0Uh27gCB3prg"
      }
    },
    {
      "cell_type": "code",
      "source": [
        "original_images_dir = '/content/drive/MyDrive/Model2/test/qagriefolia'\n",
        "\n",
        "save_dir = '/content/drive/MyDrive/Model2/test/qagriefolia'\n",
        "\n",
        "# Create an instance of the ImageDataGenerator with rotation augmentation\n",
        "datagen = ImageDataGenerator(\n",
        "    rotation_range=10,\n",
        "    fill_mode='nearest'\n",
        ")\n",
        "\n",
        "# Get the list of original image filenames\n",
        "original_image_files4 = os.listdir(original_images_dir)\n",
        "\n",
        "# Generate augmented images and save them to disk\n",
        "for filename in original_image_files4:\n",
        "    img = Image.open(os.path.join(original_images_dir, filename))\n",
        "    img_array = np.array(img)\n",
        "    img_array = np.expand_dims(img_array, axis=0)\n",
        "\n",
        "    augmented_images4 = datagen.flow(img_array, batch_size=1, save_to_dir=save_dir, save_prefix='aug_', save_format='png')\n",
        "    for _ in range(5):\n",
        "        augmented_image4 = augmented_images4.next()"
      ],
      "metadata": {
        "id": "leJl6a6u2Yic"
      },
      "execution_count": null,
      "outputs": []
    },
    {
      "cell_type": "code",
      "source": [
        "original_images_dir = '/content/drive/MyDrive/Model2/train/qacutissima'\n",
        "\n",
        "save_dir = '/content/drive/MyDrive/Model2/train/qacutissima'\n",
        "\n",
        "# Create an instance of the ImageDataGenerator with rotation augmentation\n",
        "datagen = ImageDataGenerator(\n",
        "    rotation_range=10,\n",
        "    fill_mode='nearest'\n",
        ")\n",
        "\n",
        "# Get the list of original image filenames\n",
        "original_image_files = os.listdir(original_images_dir)\n",
        "\n",
        "# Generate augmented images and save them to disk\n",
        "for filename in original_image_files:\n",
        "    img = Image.open(os.path.join(original_images_dir, filename))\n",
        "    img_array = np.array(img)\n",
        "    img_array = np.expand_dims(img_array, axis=0)\n",
        "\n",
        "    augmented_images = datagen.flow(img_array, batch_size=1, save_to_dir=save_dir, save_prefix='aug_', save_format='png')\n",
        "    for _ in range(5):\n",
        "        augmented_image = augmented_images.next()"
      ],
      "metadata": {
        "id": "0GH1JBQH2YYu"
      },
      "execution_count": null,
      "outputs": []
    },
    {
      "cell_type": "code",
      "source": [
        "original_images_dir = '/content/drive/MyDrive/Model2/test/qacutissima'\n",
        "\n",
        "save_dir = '/content/drive/MyDrive/Model2/test/qacutissima'\n",
        "\n",
        "# Create an instance of the ImageDataGenerator with rotation augmentation\n",
        "datagen = ImageDataGenerator(\n",
        "    rotation_range=10,\n",
        "    fill_mode='nearest'\n",
        ")\n",
        "\n",
        "# Get the list of original image filenames\n",
        "original_image_files3 = os.listdir(original_images_dir)\n",
        "\n",
        "# Generate augmented images and save them to disk\n",
        "for filename in original_image_files3:\n",
        "    img = Image.open(os.path.join(original_images_dir, filename))\n",
        "    img_array = np.array(img)\n",
        "    img_array = np.expand_dims(img_array, axis=0)\n",
        "\n",
        "    augmented_images3 = datagen.flow(img_array, batch_size=1, save_to_dir=save_dir, save_prefix='aug_', save_format='png')\n",
        "    for _ in range(5):\n",
        "        augmented_image = augmented_images3.next()"
      ],
      "metadata": {
        "id": "PHL7pXC62YQD"
      },
      "execution_count": null,
      "outputs": []
    },
    {
      "cell_type": "code",
      "source": [
        "original_images_dir = '/content/drive/MyDrive/Model2/train/qagriefolia'\n",
        "\n",
        "save_dir = '/content/drive/MyDrive/Model2/train/qagriefolia'\n",
        "\n",
        "# Create an instance of the ImageDataGenerator with rotation augmentation\n",
        "datagen = ImageDataGenerator(\n",
        "    rotation_range=10,\n",
        "    fill_mode='nearest'\n",
        ")\n",
        "\n",
        "# Get the list of original image filenames\n",
        "original_image_files2 = os.listdir(original_images_dir)\n",
        "\n",
        "# Generate augmented images and save them to disk\n",
        "for filename in original_image_files2:\n",
        "    img = Image.open(os.path.join(original_images_dir, filename))\n",
        "    img_array = np.array(img)\n",
        "    img_array = np.expand_dims(img_array, axis=0)\n",
        "\n",
        "    augmented_images2 = datagen.flow(img_array, batch_size=1, save_to_dir=save_dir, save_prefix='aug_', save_format='png')\n",
        "    for _ in range(5):\n",
        "        augmented_image = augmented_images2.next()"
      ],
      "metadata": {
        "id": "u-xv2Unz2YD4"
      },
      "execution_count": null,
      "outputs": []
    },
    {
      "cell_type": "code",
      "source": [
        "train_datagen = ImageDataGenerator(\n",
        "    rescale=1./255,\n",
        "    brightness_range=[0.8, 1.2],\n",
        "    width_shift_range=0.2,\n",
        "    rotation_range=20,\n",
        "    shear_range=0.2,\n",
        "    horizontal_flip=True,\n",
        "    fill_mode='nearest'\n",
        ")\n",
        "train_generator = train_datagen.flow_from_directory(\n",
        "    training_dir,\n",
        "    target_size=(256, 256),\n",
        "    batch_size=32,\n",
        "    shuffle = True,\n",
        "    class_mode='categorical'\n",
        ")\n",
        "\n",
        "val_datagen = ImageDataGenerator(\n",
        "    rescale=1./255\n",
        "    )\n",
        "val_generator = val_datagen.flow_from_directory(\n",
        "    validation_dir,\n",
        "    target_size=(256,256),\n",
        "    batch_size=32,\n",
        "    shuffle = True,\n",
        "    class_mode='categorical'\n",
        ")\n",
        "test_datagen = ImageDataGenerator(\n",
        "    rescale=1./255\n",
        "    )\n",
        "test_generator = test_datagen.flow_from_directory(\n",
        "    test_dir,\n",
        "    target_size=(256,256),\n",
        "    batch_size=32,\n",
        "    shuffle = True,\n",
        "    class_mode='categorical'\n",
        ")"
      ],
      "metadata": {
        "colab": {
          "base_uri": "https://localhost:8080/"
        },
        "id": "EI6_VtkNIeR6",
        "outputId": "55963fe9-3eb2-44e3-9119-084e368d0de8"
      },
      "execution_count": 8,
      "outputs": [
        {
          "output_type": "stream",
          "name": "stdout",
          "text": [
            "Found 617 images belonging to 2 classes.\n",
            "Found 169 images belonging to 2 classes.\n",
            "Found 144 images belonging to 2 classes.\n"
          ]
        }
      ]
    },
    {
      "cell_type": "code",
      "source": [
        "model = MobileNetV2(weights='imagenet', include_top=False, input_shape=(256, 256, 3))\n",
        "\n",
        "for layer in model.layers:\n",
        "    layer.trainable = False\n",
        "\n",
        "x = model.output\n",
        "x = GlobalAveragePooling2D()(x)\n",
        "x = Dense(512, activation='relu')(x)\n",
        "x = Dropout(0.2)(x)\n",
        "predictions = Dense(2, activation='sigmoid')(x)\n",
        "\n",
        "model1 = Model(inputs=model.input, outputs=predictions)"
      ],
      "metadata": {
        "id": "BGPMD33lI0Xp"
      },
      "execution_count": null,
      "outputs": []
    },
    {
      "cell_type": "code",
      "source": [
        "optimizer = tf.keras.optimizers.Adam(learning_rate=0.001)\n",
        "model1.compile(optimizer=optimizer, loss='mean_squared_error', metrics=['accuracy'])"
      ],
      "metadata": {
        "id": "cU7dEbkhJQkE"
      },
      "execution_count": 10,
      "outputs": []
    },
    {
      "cell_type": "code",
      "source": [
        "import keras\n",
        "early_stopping = keras.callbacks.EarlyStopping( monitor='val_accuracy',patience=5,restore_best_weights=True)\n",
        "model1.fit(\n",
        "    train_generator,\n",
        "    epochs=20,\n",
        "    validation_data=val_generator\n",
        ")"
      ],
      "metadata": {
        "id": "DdtPDo1bJSFE"
      },
      "execution_count": null,
      "outputs": []
    },
    {
      "cell_type": "code",
      "source": [
        " test_accuracy = model1.evaluate(test_generator)\n",
        "\n",
        "\n",
        "print(\"Accuracy:\", test_accuracy)"
      ],
      "metadata": {
        "id": "OZI1O3tgPj4M"
      },
      "execution_count": null,
      "outputs": []
    }
  ]
}